{
  "nbformat": 4,
  "nbformat_minor": 0,
  "metadata": {
    "colab": {
      "name": "Dropout.ipynb",
      "provenance": [],
      "collapsed_sections": []
    },
    "language_info": {
      "name": "python"
    },
    "kernelspec": {
      "name": "python3",
      "display_name": "Python 3"
    }
  },
  "cells": [
    {
      "cell_type": "code",
      "metadata": {
        "colab": {
          "base_uri": "https://localhost:8080/"
        },
        "id": "MTWQWVt9LOL5",
        "outputId": "57b9cb30-272a-43d9-e57b-377fb6696476"
      },
      "source": [
        "# This mounts your Google Drive to the Colab VM.\n",
        "from google.colab import drive\n",
        "drive.mount('/content/drive')\n",
        "\n",
        "# TODO: Enter the foldername in your Drive where you have saved the unzipped\n",
        "# assignment folder, e.g. 'cs231n/assignments/assignment1/'\n",
        "FOLDERNAME = 'Euron_Ewha/cs231n/assignment2/'\n",
        "assert FOLDERNAME is not None, \"[!] Enter the foldername.\"\n",
        "\n",
        "# Now that we've mounted your Drive, this ensures that\n",
        "# the Python interpreter of the Colab VM can load\n",
        "# python files from within it.\n",
        "import sys\n",
        "sys.path.append('/content/drive/My Drive/{}'.format(FOLDERNAME))\n",
        "\n",
        "# This downloads the CIFAR-10 dataset to your Drive\n",
        "# if it doesn't already exist.\n",
        "%cd /content/drive/My\\ Drive/$FOLDERNAME/cs231n/datasets/\n",
        "!bash get_datasets.sh\n",
        "%cd /content/drive/My\\ Drive/$FOLDERNAME"
      ],
      "execution_count": 1,
      "outputs": [
        {
          "output_type": "stream",
          "text": [
            "Mounted at /content/drive\n",
            "/content/drive/My Drive/Euron_Ewha/cs231n/assignment2/cs231n/datasets\n",
            "/content/drive/My Drive/Euron_Ewha/cs231n/assignment2\n"
          ],
          "name": "stdout"
        }
      ]
    },
    {
      "cell_type": "markdown",
      "metadata": {
        "tags": [
          "pdf-title"
        ],
        "id": "qicP9ERjLOL8"
      },
      "source": [
        "# Dropout\n",
        "Dropout [1] is a technique for regularizing neural networks by randomly setting some output activations to zero during the forward pass. In this exercise, you will implement a dropout layer and modify your fully connected network to optionally use dropout.\n",
        "\n",
        "[1] [Geoffrey E. Hinton et al, \"Improving neural networks by preventing co-adaptation of feature detectors\", arXiv 2012](https://arxiv.org/abs/1207.0580)"
      ]
    },
    {
      "cell_type": "code",
      "metadata": {
        "tags": [
          "pdf-ignore"
        ],
        "colab": {
          "base_uri": "https://localhost:8080/"
        },
        "id": "kGJ7oWD_LOL9",
        "outputId": "32bdb01e-90b4-450c-fd9e-e3867cc6cab5"
      },
      "source": [
        "# Setup cell.\n",
        "import time\n",
        "import numpy as np\n",
        "import matplotlib.pyplot as plt\n",
        "from cs231n.classifiers.fc_net import *\n",
        "from cs231n.data_utils import get_CIFAR10_data\n",
        "from cs231n.gradient_check import eval_numerical_gradient, eval_numerical_gradient_array\n",
        "from cs231n.solver import Solver\n",
        "\n",
        "%matplotlib inline\n",
        "plt.rcParams[\"figure.figsize\"] = (10.0, 8.0)  # Set default size of plots.\n",
        "plt.rcParams[\"image.interpolation\"] = \"nearest\"\n",
        "plt.rcParams[\"image.cmap\"] = \"gray\"\n",
        "\n",
        "%load_ext autoreload\n",
        "%autoreload 2\n",
        "\n",
        "def rel_error(x, y):\n",
        "    \"\"\"Returns relative error.\"\"\"\n",
        "    return np.max(np.abs(x - y) / (np.maximum(1e-8, np.abs(x) + np.abs(y))))"
      ],
      "execution_count": 2,
      "outputs": [
        {
          "output_type": "stream",
          "text": [
            "=========== You can safely ignore the message below if you are NOT working on ConvolutionalNetworks.ipynb ===========\n",
            "\tYou will need to compile a Cython extension for a portion of this assignment.\n",
            "\tThe instructions to do this will be given in a section of the notebook below.\n"
          ],
          "name": "stdout"
        }
      ]
    },
    {
      "cell_type": "code",
      "metadata": {
        "tags": [
          "pdf-ignore"
        ],
        "colab": {
          "base_uri": "https://localhost:8080/"
        },
        "id": "soHSXBDYLOL-",
        "outputId": "b53a68a8-cf1e-499f-a6f8-7ec9a54fd89d"
      },
      "source": [
        "# Load the (preprocessed) CIFAR-10 data.\n",
        "data = get_CIFAR10_data()\n",
        "for k, v in list(data.items()):\n",
        "    print(f\"{k}: {v.shape}\")"
      ],
      "execution_count": 3,
      "outputs": [
        {
          "output_type": "stream",
          "text": [
            "X_train: (49000, 3, 32, 32)\n",
            "y_train: (49000,)\n",
            "X_val: (1000, 3, 32, 32)\n",
            "y_val: (1000,)\n",
            "X_test: (1000, 3, 32, 32)\n",
            "y_test: (1000,)\n"
          ],
          "name": "stdout"
        }
      ]
    },
    {
      "cell_type": "markdown",
      "metadata": {
        "id": "TePfiq_dLOL-"
      },
      "source": [
        "# Dropout: Forward Pass\n",
        "In the file `cs231n/layers.py`, implement the forward pass for dropout. Since dropout behaves differently during training and testing, make sure to implement the operation for both modes.\n",
        "\n",
        "Once you have done so, run the cell below to test your implementation."
      ]
    },
    {
      "cell_type": "code",
      "metadata": {
        "colab": {
          "base_uri": "https://localhost:8080/"
        },
        "id": "md8ll2fbLOL_",
        "outputId": "f3c43fff-a6d0-445f-cf61-3ea74657fbcd"
      },
      "source": [
        "np.random.seed(231)\n",
        "x = np.random.randn(500, 500) + 10\n",
        "\n",
        "for p in [0.25, 0.4, 0.7]:\n",
        "    out, _ = dropout_forward(x, {'mode': 'train', 'p': p})\n",
        "    out_test, _ = dropout_forward(x, {'mode': 'test', 'p': p})\n",
        "\n",
        "    print('Running tests with p = ', p)\n",
        "    print('Mean of input: ', x.mean())\n",
        "    print('Mean of train-time output: ', out.mean())\n",
        "    print('Mean of test-time output: ', out_test.mean())\n",
        "    print('Fraction of train-time output set to zero: ', (out == 0).mean())\n",
        "    print('Fraction of test-time output set to zero: ', (out_test == 0).mean())\n",
        "    print()"
      ],
      "execution_count": 4,
      "outputs": [
        {
          "output_type": "stream",
          "text": [
            "Running tests with p =  0.25\n",
            "Mean of input:  10.000207878477502\n",
            "Mean of train-time output:  10.014059116977283\n",
            "Mean of test-time output:  10.000207878477502\n",
            "Fraction of train-time output set to zero:  0.749784\n",
            "Fraction of test-time output set to zero:  0.0\n",
            "\n",
            "Running tests with p =  0.4\n",
            "Mean of input:  10.000207878477502\n",
            "Mean of train-time output:  9.977917658761159\n",
            "Mean of test-time output:  10.000207878477502\n",
            "Fraction of train-time output set to zero:  0.600796\n",
            "Fraction of test-time output set to zero:  0.0\n",
            "\n",
            "Running tests with p =  0.7\n",
            "Mean of input:  10.000207878477502\n",
            "Mean of train-time output:  9.987811912159426\n",
            "Mean of test-time output:  10.000207878477502\n",
            "Fraction of train-time output set to zero:  0.30074\n",
            "Fraction of test-time output set to zero:  0.0\n",
            "\n"
          ],
          "name": "stdout"
        }
      ]
    },
    {
      "cell_type": "markdown",
      "metadata": {
        "id": "hQvep8mfLOMA"
      },
      "source": [
        "# Dropout: Backward Pass\n",
        "In the file `cs231n/layers.py`, implement the backward pass for dropout. After doing so, run the following cell to numerically gradient-check your implementation."
      ]
    },
    {
      "cell_type": "code",
      "metadata": {
        "colab": {
          "base_uri": "https://localhost:8080/"
        },
        "id": "UHnFS-xNLOMB",
        "outputId": "3159ef26-4367-465b-f008-6fb6e501ccc6"
      },
      "source": [
        "np.random.seed(231)\n",
        "x = np.random.randn(10, 10) + 10\n",
        "dout = np.random.randn(*x.shape)\n",
        "\n",
        "dropout_param = {'mode': 'train', 'p': 0.2, 'seed': 123}\n",
        "out, cache = dropout_forward(x, dropout_param)\n",
        "dx = dropout_backward(dout, cache)\n",
        "dx_num = eval_numerical_gradient_array(lambda xx: dropout_forward(xx, dropout_param)[0], x, dout)\n",
        "\n",
        "# Error should be around e-10 or less.\n",
        "print('dx relative error: ', rel_error(dx, dx_num))"
      ],
      "execution_count": 5,
      "outputs": [
        {
          "output_type": "stream",
          "text": [
            "dx relative error:  5.44560814873387e-11\n"
          ],
          "name": "stdout"
        }
      ]
    },
    {
      "cell_type": "markdown",
      "metadata": {
        "tags": [
          "pdf-inline"
        ],
        "id": "WVvhbhXILOMB"
      },
      "source": [
        "## Inline Question 1:\n",
        "What happens if we do not divide the values being passed through inverse dropout by `p` in the dropout layer? Why does that happen?\n",
        "\n",
        "## Answer:\n",
        "만약 p로 나누지 않는다면, test time에 training output의 average를 고려하지 않을 것이다. 그러므로 모든 sub-network들의 합계만 고려하고, 이는 large value로 gradient가 exploding할 것이다. 이것은 test time에 dropping neuron 없이 forward call만 수행하기 때문에 training 단계에서 생성된 예상 output의 근사치가 필요하기 때문에 발생한다.\n"
      ]
    },
    {
      "cell_type": "markdown",
      "metadata": {
        "id": "QWuw95CKLOMC"
      },
      "source": [
        "# Fully Connected Networks with Dropout\n",
        "In the file `cs231n/classifiers/fc_net.py`, modify your implementation to use dropout. Specifically, if the constructor of the network receives a value that is not 1 for the `dropout_keep_ratio` parameter, then the net should add a dropout layer immediately after every ReLU nonlinearity. After doing so, run the following to numerically gradient-check your implementation."
      ]
    },
    {
      "cell_type": "code",
      "metadata": {
        "colab": {
          "base_uri": "https://localhost:8080/"
        },
        "id": "tpCEXTH0LOMD",
        "outputId": "6e035bc3-7e30-4100-bcc3-6e78b8c76b0e"
      },
      "source": [
        "np.random.seed(231)\n",
        "N, D, H1, H2, C = 2, 15, 20, 30, 10\n",
        "X = np.random.randn(N, D)\n",
        "y = np.random.randint(C, size=(N,))\n",
        "\n",
        "for dropout_keep_ratio in [1, 0.75, 0.5]:\n",
        "    print('Running check with dropout = ', dropout_keep_ratio)\n",
        "    model = FullyConnectedNet(\n",
        "        [H1, H2],\n",
        "        input_dim=D,\n",
        "        num_classes=C,\n",
        "        weight_scale=5e-2,\n",
        "        dtype=np.float64,\n",
        "        dropout_keep_ratio=dropout_keep_ratio,\n",
        "        seed=123\n",
        "    )\n",
        "\n",
        "    loss, grads = model.loss(X, y)\n",
        "    print('Initial loss: ', loss)\n",
        "\n",
        "    # Relative errors should be around e-6 or less.\n",
        "    # Note that it's fine if for dropout_keep_ratio=1 you have W2 error be on the order of e-5.\n",
        "    for name in sorted(grads):\n",
        "        f = lambda _: model.loss(X, y)[0]\n",
        "        grad_num = eval_numerical_gradient(f, model.params[name], verbose=False, h=1e-5)\n",
        "        print('%s relative error: %.2e' % (name, rel_error(grad_num, grads[name])))\n",
        "    print()"
      ],
      "execution_count": 6,
      "outputs": [
        {
          "output_type": "stream",
          "text": [
            "Running check with dropout =  1\n",
            "Initial loss:  2.3004790897684924\n",
            "W1 relative error: 1.48e-07\n",
            "W2 relative error: 2.21e-05\n",
            "W3 relative error: 3.53e-07\n",
            "b1 relative error: 5.38e-09\n",
            "b2 relative error: 2.09e-09\n",
            "b3 relative error: 5.80e-11\n",
            "\n",
            "Running check with dropout =  0.75\n",
            "Initial loss:  2.302371489704412\n",
            "W1 relative error: 1.90e-07\n",
            "W2 relative error: 4.76e-06\n",
            "W3 relative error: 2.60e-08\n",
            "b1 relative error: 4.73e-09\n",
            "b2 relative error: 1.82e-09\n",
            "b3 relative error: 1.70e-10\n",
            "\n",
            "Running check with dropout =  0.5\n",
            "Initial loss:  2.3042759220785896\n",
            "W1 relative error: 3.11e-07\n",
            "W2 relative error: 1.84e-08\n",
            "W3 relative error: 5.35e-08\n",
            "b1 relative error: 5.37e-09\n",
            "b2 relative error: 2.99e-09\n",
            "b3 relative error: 1.13e-10\n",
            "\n"
          ],
          "name": "stdout"
        }
      ]
    },
    {
      "cell_type": "markdown",
      "metadata": {
        "id": "UP18AffgLOMD"
      },
      "source": [
        "# Regularization Experiment\n",
        "As an experiment, we will train a pair of two-layer networks on 500 training examples: one will use no dropout, and one will use a keep probability of 0.25. We will then visualize the training and validation accuracies of the two networks over time."
      ]
    },
    {
      "cell_type": "code",
      "metadata": {
        "scrolled": false,
        "colab": {
          "base_uri": "https://localhost:8080/"
        },
        "id": "-Mn1JyyXLOME",
        "outputId": "b702ad48-3801-4c30-b94a-c2fe377e9bfa"
      },
      "source": [
        "# Train two identical nets, one with dropout and one without.\n",
        "np.random.seed(231)\n",
        "num_train = 500\n",
        "small_data = {\n",
        "    'X_train': data['X_train'][:num_train],\n",
        "    'y_train': data['y_train'][:num_train],\n",
        "    'X_val': data['X_val'],\n",
        "    'y_val': data['y_val'],\n",
        "}\n",
        "\n",
        "solvers = {}\n",
        "dropout_choices = [1, 0.25]\n",
        "for dropout_keep_ratio in dropout_choices:\n",
        "    model = FullyConnectedNet(\n",
        "        [500],\n",
        "        dropout_keep_ratio=dropout_keep_ratio\n",
        "    )\n",
        "    print(dropout_keep_ratio)\n",
        "\n",
        "    solver = Solver(\n",
        "        model,\n",
        "        small_data,\n",
        "        num_epochs=25,\n",
        "        batch_size=100,\n",
        "        update_rule='adam',\n",
        "        optim_config={'learning_rate': 5e-4,},\n",
        "        verbose=True,\n",
        "        print_every=100\n",
        "    )\n",
        "    solver.train()\n",
        "    solvers[dropout_keep_ratio] = solver\n",
        "    print()"
      ],
      "execution_count": 7,
      "outputs": [
        {
          "output_type": "stream",
          "text": [
            "1\n",
            "(Iteration 1 / 125) loss: 7.856643\n",
            "(Epoch 0 / 25) train acc: 0.260000; val_acc: 0.184000\n",
            "(Epoch 1 / 25) train acc: 0.416000; val_acc: 0.258000\n",
            "(Epoch 2 / 25) train acc: 0.482000; val_acc: 0.276000\n",
            "(Epoch 3 / 25) train acc: 0.532000; val_acc: 0.277000\n",
            "(Epoch 4 / 25) train acc: 0.600000; val_acc: 0.271000\n",
            "(Epoch 5 / 25) train acc: 0.708000; val_acc: 0.299000\n",
            "(Epoch 6 / 25) train acc: 0.722000; val_acc: 0.282000\n",
            "(Epoch 7 / 25) train acc: 0.832000; val_acc: 0.255000\n",
            "(Epoch 8 / 25) train acc: 0.880000; val_acc: 0.268000\n",
            "(Epoch 9 / 25) train acc: 0.902000; val_acc: 0.277000\n",
            "(Epoch 10 / 25) train acc: 0.898000; val_acc: 0.261000\n",
            "(Epoch 11 / 25) train acc: 0.924000; val_acc: 0.263000\n",
            "(Epoch 12 / 25) train acc: 0.960000; val_acc: 0.300000\n",
            "(Epoch 13 / 25) train acc: 0.972000; val_acc: 0.314000\n",
            "(Epoch 14 / 25) train acc: 0.972000; val_acc: 0.311000\n",
            "(Epoch 15 / 25) train acc: 0.972000; val_acc: 0.317000\n",
            "(Epoch 16 / 25) train acc: 0.994000; val_acc: 0.309000\n",
            "(Epoch 17 / 25) train acc: 0.974000; val_acc: 0.306000\n",
            "(Epoch 18 / 25) train acc: 0.990000; val_acc: 0.309000\n",
            "(Epoch 19 / 25) train acc: 0.986000; val_acc: 0.314000\n",
            "(Epoch 20 / 25) train acc: 0.994000; val_acc: 0.286000\n",
            "(Iteration 101 / 125) loss: 0.036931\n",
            "(Epoch 21 / 25) train acc: 0.994000; val_acc: 0.299000\n",
            "(Epoch 22 / 25) train acc: 0.998000; val_acc: 0.311000\n",
            "(Epoch 23 / 25) train acc: 0.988000; val_acc: 0.290000\n",
            "(Epoch 24 / 25) train acc: 0.992000; val_acc: 0.295000\n",
            "(Epoch 25 / 25) train acc: 0.986000; val_acc: 0.310000\n",
            "\n",
            "0.25\n",
            "(Iteration 1 / 125) loss: 17.318480\n",
            "(Epoch 0 / 25) train acc: 0.230000; val_acc: 0.177000\n",
            "(Epoch 1 / 25) train acc: 0.378000; val_acc: 0.243000\n",
            "(Epoch 2 / 25) train acc: 0.402000; val_acc: 0.254000\n",
            "(Epoch 3 / 25) train acc: 0.502000; val_acc: 0.276000\n",
            "(Epoch 4 / 25) train acc: 0.528000; val_acc: 0.298000\n",
            "(Epoch 5 / 25) train acc: 0.562000; val_acc: 0.296000\n",
            "(Epoch 6 / 25) train acc: 0.620000; val_acc: 0.290000\n",
            "(Epoch 7 / 25) train acc: 0.628000; val_acc: 0.298000\n",
            "(Epoch 8 / 25) train acc: 0.678000; val_acc: 0.311000\n",
            "(Epoch 9 / 25) train acc: 0.718000; val_acc: 0.292000\n",
            "(Epoch 10 / 25) train acc: 0.728000; val_acc: 0.305000\n",
            "(Epoch 11 / 25) train acc: 0.754000; val_acc: 0.312000\n",
            "(Epoch 12 / 25) train acc: 0.760000; val_acc: 0.290000\n",
            "(Epoch 13 / 25) train acc: 0.818000; val_acc: 0.314000\n",
            "(Epoch 14 / 25) train acc: 0.822000; val_acc: 0.346000\n",
            "(Epoch 15 / 25) train acc: 0.856000; val_acc: 0.345000\n",
            "(Epoch 16 / 25) train acc: 0.852000; val_acc: 0.318000\n",
            "(Epoch 17 / 25) train acc: 0.848000; val_acc: 0.307000\n",
            "(Epoch 18 / 25) train acc: 0.870000; val_acc: 0.328000\n",
            "(Epoch 19 / 25) train acc: 0.886000; val_acc: 0.328000\n",
            "(Epoch 20 / 25) train acc: 0.890000; val_acc: 0.308000\n",
            "(Iteration 101 / 125) loss: 3.571001\n",
            "(Epoch 21 / 25) train acc: 0.898000; val_acc: 0.312000\n",
            "(Epoch 22 / 25) train acc: 0.890000; val_acc: 0.287000\n",
            "(Epoch 23 / 25) train acc: 0.916000; val_acc: 0.311000\n",
            "(Epoch 24 / 25) train acc: 0.914000; val_acc: 0.318000\n",
            "(Epoch 25 / 25) train acc: 0.918000; val_acc: 0.302000\n",
            "\n"
          ],
          "name": "stdout"
        }
      ]
    },
    {
      "cell_type": "code",
      "metadata": {
        "colab": {
          "base_uri": "https://localhost:8080/",
          "height": 606
        },
        "id": "P_7kiWfeLOME",
        "outputId": "f2b5d278-0a62-4f98-abf5-843efa9e9ee2"
      },
      "source": [
        "# Plot train and validation accuracies of the two models.\n",
        "train_accs = []\n",
        "val_accs = []\n",
        "for dropout_keep_ratio in dropout_choices:\n",
        "    solver = solvers[dropout_keep_ratio]\n",
        "    train_accs.append(solver.train_acc_history[-1])\n",
        "    val_accs.append(solver.val_acc_history[-1])\n",
        "\n",
        "plt.subplot(3, 1, 1)\n",
        "for dropout_keep_ratio in dropout_choices:\n",
        "    plt.plot(\n",
        "        solvers[dropout_keep_ratio].train_acc_history, 'o', label='%.2f dropout_keep_ratio' % dropout_keep_ratio)\n",
        "plt.title('Train accuracy')\n",
        "plt.xlabel('Epoch')\n",
        "plt.ylabel('Accuracy')\n",
        "plt.legend(ncol=2, loc='lower right')\n",
        "  \n",
        "plt.subplot(3, 1, 2)\n",
        "for dropout_keep_ratio in dropout_choices:\n",
        "    plt.plot(\n",
        "        solvers[dropout_keep_ratio].val_acc_history, 'o', label='%.2f dropout_keep_ratio' % dropout_keep_ratio)\n",
        "plt.title('Val accuracy')\n",
        "plt.xlabel('Epoch')\n",
        "plt.ylabel('Accuracy')\n",
        "plt.legend(ncol=2, loc='lower right')\n",
        "\n",
        "plt.gcf().set_size_inches(15, 15)\n",
        "plt.show()"
      ],
      "execution_count": 8,
      "outputs": [
        {
          "output_type": "display_data",
          "data": {
            "image/png": "[encoded data removed]",
            "text/plain": [
              "<Figure size 1080x1080 with 2 Axes>"
            ]
          },
          "metadata": {
            "tags": [],
            "needs_background": "light"
          }
        }
      ]
    },
    {
      "cell_type": "markdown",
      "metadata": {
        "tags": [
          "pdf-inline"
        ],
        "id": "wg43L2B9LOMF"
      },
      "source": [
        "## Inline Question 2:\n",
        "Compare the validation and training accuracies with and without dropout -- what do your results suggest about dropout as a regularizer?\n",
        "\n",
        "## Answer:\n",
        "위 결과는 model이 overfitting 되었다는 것을 보여준다. Training 단계에서 dropout을 사용하지 않은 경우의 accuracy가 dropout을 사용한 경우의 accuracy보다 높다. Dropout을 사용하면 model을 더 simple하게 만들어 overfitting을 피할 수 있다. Validation 단계에서, dropout을 사용했을 때의 결과가 조금 더 낫다. <br>따라서 dropout을 사용하면 model을 regularize해, overfitting을 줄일 수 있다. \n"
      ]
    },
    {
      "cell_type": "markdown",
      "metadata": {
        "tags": [
          "pdf-inline"
        ],
        "id": "QGRmhh5oLOMF"
      },
      "source": [
        "## Inline Question 3:\n",
        "Suppose we are training a deep fully connected network for image classification, with dropout after hidden layers (parameterized by keep probability `p`). If we are concerned about overfitting, how should we modify `p` (if at all) when we decide to decrease the size of the hidden layers (that is, the number of nodes in each layer)?\n",
        "\n",
        "## Answer:\n",
        "Hidden layer size를 줄인다면 p를 수정할 필요가 없다. Dropout 된 뉴런의 수는 hidden layer size에 비례하기 때문이다. <br> n = 뉴런의 수, dropout 된 뉴런의 수 = p * n  (0 <= p <= 1)\n"
      ]
    }
  ]
}